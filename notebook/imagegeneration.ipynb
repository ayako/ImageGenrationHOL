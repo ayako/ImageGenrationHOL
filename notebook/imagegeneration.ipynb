{
 "cells": [
  {
   "cell_type": "code",
   "execution_count": 1,
   "id": "d9db1b39",
   "metadata": {},
   "outputs": [],
   "source": [
    "import requests\n",
    "import base64\n",
    "import os\n",
    "import mimetypes\n",
    "from PIL import Image\n",
    "from datetime import datetime"
   ]
  },
  {
   "cell_type": "code",
   "execution_count": null,
   "id": "334f9a53",
   "metadata": {},
   "outputs": [],
   "source": [
    "# Azure OpenAI API Configuration\n",
    "AZURE_OPENAI_API_KEY=\"YOUR_API_KEY\"\n",
    "AZURE_OPENAI_ENDPOINT=\"https://YOUR_RESOURCE_NAME.openai.azure.com/\"\n",
    "AZURE_OPENAI_API_VERSION=\"2025-04-01-preview\"\n",
    "AZURE_OPENAI_IMAGE_DEPLOYMENT=\"gpt-image-1\""
   ]
  },
  {
   "cell_type": "code",
   "execution_count": 3,
   "id": "1b0b1618",
   "metadata": {},
   "outputs": [],
   "source": [
    "def generate_image(prompt):\n",
    "    url = f\"{AZURE_OPENAI_ENDPOINT}openai/deployments/{AZURE_OPENAI_IMAGE_DEPLOYMENT}/images/generations?api-version={AZURE_OPENAI_API_VERSION}\"\n",
    "    headers = {\n",
    "        'api-key': AZURE_OPENAI_API_KEY,\n",
    "        'Content-Type': 'application/json'\n",
    "    }\n",
    "    \n",
    "    data = {\n",
    "        \"prompt\": \"富士山と桜の美しい風景を写術風に描いてください\",\n",
    "        \"n\": 1,\n",
    "        \"size\": \"1024x1024\",\n",
    "        \"quality\": \"medium\",\n",
    "        \"output_format\": \"png\"\n",
    "    }\n",
    "    \n",
    "    response = requests.post(url, headers=headers, json=data)\n",
    "    print(\"response code: \" + str(response.status_code))\n",
    "\n",
    "    if response.status_code == 200:\n",
    "        b64 = response.json()[\"data\"][0][\"b64_json\"]\n",
    "        output_filename = \"./generated/image/\" + datetime.now().strftime(\"%Y%m%d_%H%M%S\") + \".png\"\n",
    "        with open(output_filename, \"wb\") as out:\n",
    "            out.write(base64.b64decode(b64))\n",
    "        print(\"Image saved to: \" + output_filename)\n",
    "    else:\n",
    "        print(\"Error: \" + response.text)\n",
    "        exit(1)"
   ]
  },
  {
   "cell_type": "code",
   "execution_count": 4,
   "id": "38fc678d",
   "metadata": {},
   "outputs": [
    {
     "name": "stdout",
     "output_type": "stream",
     "text": [
      "response code: 200\n",
      "Image saved to: ./generated/image/20250814_153841.png\n"
     ]
    }
   ],
   "source": [
    "generate_image(\"富士山と桜の美しい風景を写術風に描いてください\")"
   ]
  },
  {
   "cell_type": "code",
   "execution_count": null,
   "id": "99d2e39d",
   "metadata": {},
   "outputs": [],
   "source": [
    "def edit_image(prompt,images,generated_image):\n",
    "    url = f\"{AZURE_OPENAI_ENDPOINT}openai/deployments/{AZURE_OPENAI_IMAGE_DEPLOYMENT}/images/edits?api-version={AZURE_OPENAI_API_VERSION}\"\n",
    "    headers = {\n",
    "        \"api-key\": AZURE_OPENAI_API_KEY\n",
    "    }\n",
    "    \n",
    "    data = {\n",
    "        \"prompt\": prompt,\n",
    "        \"size\": \"1024x1024\",\n",
    "        \"n\": 1\n",
    "    }\n",
    "\n",
    "    files = []\n",
    "    for image in images:\n",
    "        if not os.path.exists(image):\n",
    "            print(f\"Error: Image file {image} does not exist.\")\n",
    "            exit(1)\n",
    "        filename = os.path.basename(image)\n",
    "        filetype, _ = mimetypes.guess_type(image)\n",
    "        files.append((\"image[]\", (filename, open(image, \"rb\"), filetype)))\n",
    "    \n",
    "    response = requests.post(url, headers=headers, data=data, files=files)\n",
    "    print(\"response code: \" + str(response.status_code))\n",
    "\n",
    "    if response.status_code == 200:\n",
    "        b64 = response.json()[\"data\"][0][\"b64_json\"]\n",
    "        with open(generated_image, \"wb\") as out:\n",
    "            out.write(base64.b64decode(b64))\n",
    "        print(\"Image saved to: \" + generated_image)\n",
    "    else:\n",
    "        print(\"Error: \" + response.text)\n",
    "        exit(1)"
   ]
  }
 ],
 "metadata": {
  "kernelspec": {
   "display_name": "Python 3",
   "language": "python",
   "name": "python3"
  },
  "language_info": {
   "codemirror_mode": {
    "name": "ipython",
    "version": 3
   },
   "file_extension": ".py",
   "mimetype": "text/x-python",
   "name": "python",
   "nbconvert_exporter": "python",
   "pygments_lexer": "ipython3",
   "version": "3.13.6"
  }
 },
 "nbformat": 4,
 "nbformat_minor": 5
}
