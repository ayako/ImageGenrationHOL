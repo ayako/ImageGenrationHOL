{
 "cells": [
  {
   "cell_type": "code",
   "execution_count": 1,
   "id": "d9db1b39",
   "metadata": {},
   "outputs": [],
   "source": [
    "import requests\n",
    "import base64\n",
    "import os\n",
    "import mimetypes\n",
    "from PIL import Image\n",
    "from datetime import datetime"
   ]
  },
  {
   "cell_type": "code",
   "execution_count": null,
   "id": "334f9a53",
   "metadata": {},
   "outputs": [],
   "source": [
    "# Azure OpenAI API Configuration\n",
    "AZURE_OPENAI_API_KEY=\"YOUR_KEY\"\n",
    "AZURE_OPENAI_ENDPOINT=\"https://YOUR_SERVICE_NAME.openai.azure.com/\"\n",
    "AZURE_OPENAI_API_VERSION=\"2025-04-01-preview\"\n",
    "\n",
    "# GPT Models\n",
    "AZURE_OPENAI_TEXT_DEPLOYMENT=\"gpt-4o-mini\"\n",
    "AZURE_OPENAI_IMAGE_DEPLOYMENT=\"gpt-image-1\""
   ]
  },
  {
   "cell_type": "markdown",
   "id": "1e232d25",
   "metadata": {},
   "source": [
    "# Basic Image Generation"
   ]
  },
  {
   "cell_type": "code",
   "execution_count": null,
   "id": "1b0b1618",
   "metadata": {},
   "outputs": [],
   "source": [
    "# prompt = f\"EcoMealBoxをベースの画像として変更せずに使用します。EcoMealBoxの左下の仕切りに唐揚げ(Karaage)、左上の仕切りにポテトサラダ(PotatoSalad)を追加。その他の仕切りは変更しないでください\"\n",
    "# prompt = f\"Use EcoMealBox as base and don't change this figure. Add Karaage to lower-left section of box, PotatoSalad to upper-left. Do not change other sections.\"\n",
    "prompt = f\"Use EcoMealBox as base and don't change this figure. Add Kara-age to lower-left section of the box. Do not change other sections.\"\n",
    "\n",
    "\n",
    "url = f\"{AZURE_OPENAI_ENDPOINT}openai/deployments/{AZURE_OPENAI_IMAGE_DEPLOYMENT}/images/edits?api-version={AZURE_OPENAI_API_VERSION}\"\n",
    "headers = {\n",
    "    # \"Content-Type\": \"multipart/form-data\",\n",
    "    \"api-key\": AZURE_OPENAI_API_KEY\n",
    "}\n",
    "\n",
    "files = {\n",
    "    \"image\":(\"ECOMealBox\", open(\"./images/input/ECOMealBox.jpg\", \"rb\"), \"image/jpeg\")\n",
    "    # \"image\":(\"Kara-age\", open(\"./karaage.jpg\", \"rb\"), \"image/jpeg\"),\n",
    "    # \"image\":(\"PotatoSalad\", open(\"./potatosalad.jpg\", \"rb\"), \"image/jpeg\"),\n",
    "    # \"image\":(\"MameGohan\", open(\"./mamegohan.jpg\", \"rb\"), \"image/jpeg\")\n",
    "} \n",
    "\n",
    "data = {\n",
    "    \"prompt\": prompt,\n",
    "    \"size\": \"1024x1024\",\n",
    "    \"n\": \"1\"\n",
    "}\n",
    "\n",
    "response = requests.post(url, headers=headers, data=data, files=files)\n",
    "print(\"response code: \" + str(response.status_code))\n",
    "\n",
    "if response.status_code == 200:\n",
    "    b64 = response.json()[\"data\"][0][\"b64_json\"]\n",
    "    path = f\"./images/generated/{dt_str}.jpg\"\n",
    "    with open(path, \"wb\") as out:\n",
    "        out.write(base64.b64decode(b64))\n",
    "    print(\"Image saved to: \" + path)\n",
    "else:\n",
    "    print(\"Error: \" + response.text)\n",
    "    exit(1)"
   ]
  },
  {
   "cell_type": "code",
   "execution_count": 18,
   "id": "99d2e39d",
   "metadata": {},
   "outputs": [],
   "source": [
    "def generate_image(prompt,images,generated_image):\n",
    "    url = f\"{AZURE_OPENAI_ENDPOINT}openai/deployments/{AZURE_OPENAI_IMAGE_DEPLOYMENT}/images/edits?api-version={AZURE_OPENAI_API_VERSION}\"\n",
    "    headers = {\n",
    "        \"api-key\": AZURE_OPENAI_API_KEY\n",
    "    }\n",
    "    \n",
    "    data = {\n",
    "        \"prompt\": prompt,\n",
    "        \"size\": \"1024x1024\",\n",
    "        \"n\": 1\n",
    "    }\n",
    "\n",
    "    # files = {\n",
    "    #     \"image\": (os.path.basename(image), open(image, \"rb\"), mimetypes.guess_type(image))\n",
    "    # }\n",
    "\n",
    "    files = []\n",
    "    for image in images:\n",
    "        if not os.path.exists(image):\n",
    "            print(f\"Error: Image file {image} does not exist.\")\n",
    "            exit(1)\n",
    "        filename = os.path.basename(image)\n",
    "        filetype, _ = mimetypes.guess_type(image)\n",
    "        files.append((\"image[]\", (filename, open(image, \"rb\"), filetype)))\n",
    "    \n",
    "    response = requests.post(url, headers=headers, data=data, files=files)\n",
    "    print(\"response code: \" + str(response.status_code))\n",
    "\n",
    "    if response.status_code == 200:\n",
    "        b64 = response.json()[\"data\"][0][\"b64_json\"]\n",
    "        with open(generated_image, \"wb\") as out:\n",
    "            out.write(base64.b64decode(b64))\n",
    "        print(\"Image saved to: \" + generated_image)\n",
    "    else:\n",
    "        print(\"Error: \" + response.text)\n",
    "        exit(1)"
   ]
  },
  {
   "cell_type": "markdown",
   "id": "5c061e12",
   "metadata": {},
   "source": [
    "# Obento generation"
   ]
  },
  {
   "cell_type": "code",
   "execution_count": null,
   "id": "b9d816b3",
   "metadata": {},
   "outputs": [],
   "source": [
    "# dt_str = datetime.now().strftime(\"%Y%m%d_%H%M%S\")\n",
    "\n",
    "def dt_str():\n",
    "    return datetime.now().strftime(\"%Y%m%d_%H%M%S\")"
   ]
  },
  {
   "cell_type": "markdown",
   "id": "50f6a849",
   "metadata": {},
   "source": [
    "## step-by-step"
   ]
  },
  {
   "cell_type": "code",
   "execution_count": null,
   "id": "1ccaef73",
   "metadata": {},
   "outputs": [],
   "source": [
    "prompt = f\"Use EcoMealBox as base and don't change this figure. Add Potato-salad to upper-left section of the box. Do not change other sections.\"\n",
    "images = [\"./images/input/ECOMealBox_01.jpg\"]\n",
    "generated_image = f\"./images/generated/{dt_str}.jpg\"\n",
    "generate_image(prompt, images, generated_image)"
   ]
  },
  {
   "cell_type": "code",
   "execution_count": null,
   "id": "c06df63d",
   "metadata": {},
   "outputs": [],
   "source": [
    "prompt = f\"Use EcoMealBox as base and don't change this figure. Add greenpea-mixed-rice to upper-right section of the box. Do not change other sections.\"\n",
    "image = [\"./images/input/ECOMealBox_02.jpg\"]\n",
    "generated_image = f\"./images/generated/{dt_str}.jpg\"\n",
    "generate_image(prompt, image, generated_image)"
   ]
  },
  {
   "cell_type": "code",
   "execution_count": null,
   "id": "c37e058f",
   "metadata": {},
   "outputs": [],
   "source": [
    "prompt = f\"Use EcoMealBox as base and don't change this figure. Add tomato-salad to lower-right section of the box. Do not change other sections.\"\n",
    "image = [\"./images/input/ECOMealBox_03.jpg\"]\n",
    "generated_image = f\"./images/generated/{dt_str}.jpg\"\n",
    "generate_image(prompt, image, generated_image)"
   ]
  },
  {
   "cell_type": "markdown",
   "id": "23546429",
   "metadata": {},
   "source": [
    "## mixed-at-once"
   ]
  },
  {
   "cell_type": "code",
   "execution_count": null,
   "id": "2beb9716",
   "metadata": {},
   "outputs": [],
   "source": [
    "prompt = f\"Use EcoMealBox as base and don't change this figure. Add Kara-age to lower-left, Potato-salad to upper-left, greenpea-mixed-rice to upper-right, tomato-salad to lower-right section of the box. Do not change other.\"\n",
    "image = [\"./images/input/ECOMealBox.jpg\"]\n",
    "generated_image = f\"./images/generated/{dt_str}.jpg\"\n",
    "generate_image(prompt, image, generated_image)"
   ]
  },
  {
   "cell_type": "markdown",
   "id": "0fb35f47",
   "metadata": {},
   "source": [
    "## using image input"
   ]
  },
  {
   "cell_type": "code",
   "execution_count": 26,
   "id": "0054ce31",
   "metadata": {},
   "outputs": [
    {
     "name": "stdout",
     "output_type": "stream",
     "text": [
      "response code: 200\n",
      "Image saved to: ./images/generated/20250611_141510.jpg\n"
     ]
    }
   ],
   "source": [
    "prompt = f\"Image of EcoMealBox with food as guided. Don't change EcoMealBox figure. Do not change anything with EchoBox other than guided. Here is guide: Add Shushoku to lower-left of the box. Other area remains unchanged.\"\n",
    "images = [\"./images/input/ECOMealBox.jpg\", \"./images/input/Shushoku_03.png\"]\n",
    "generated_image = f\"./images/generated/{dt_str}.jpg\"\n",
    "generate_image(prompt, images, generated_image)"
   ]
  },
  {
   "cell_type": "code",
   "execution_count": 29,
   "id": "ec9faec9",
   "metadata": {},
   "outputs": [
    {
     "name": "stdout",
     "output_type": "stream",
     "text": [
      "response code: 200\n",
      "Image saved to: ./images/generated/20250611_153304.jpg\n"
     ]
    }
   ],
   "source": [
    "prompt = f\"Image of EcoMealBox with food as guided. Don't change EcoMealBox figure. Do not change anything with EchoBox other than guided. No label on image. Here is guide: Add Shushoku to Section01 of the box. Other area remains unchanged.\"\n",
    "images = [\"./images/input/ECOMealBox_00.jpg\", \"./images/input/Shushoku_03.png\"]\n",
    "generated_image = f\"./images/generated/{dt_str}.jpg\"\n",
    "generate_image(prompt, images, generated_image)"
   ]
  },
  {
   "cell_type": "code",
   "execution_count": 32,
   "id": "7f3e9ea5",
   "metadata": {},
   "outputs": [
    {
     "name": "stdout",
     "output_type": "stream",
     "text": [
      "response code: 200\n",
      "Image saved to: ./images/generated/20250611_153555.jpg\n"
     ]
    }
   ],
   "source": [
    "prompt = f\"Image of EcoMealBox with food as guided. Don't change EcoMealBox figure. Do not change anything with EchoBox other than guided. No label on image. Here is guide: Add Shushoku to Section03-01, Shusai to Section01 of the box. Other area remains unchanged.\"\n",
    "images = [\"./images/input/ECOMealBox_00.jpg\", \"./images/input/Shushoku_03.png\", \"./images/input/Shusai_01.png\"]\n",
    "generated_image = f\"./images/generated/{dt_str}.jpg\"\n",
    "generate_image(prompt, images, generated_image)"
   ]
  },
  {
   "cell_type": "code",
   "execution_count": null,
   "id": "2ffb73a3",
   "metadata": {},
   "outputs": [
    {
     "name": "stdout",
     "output_type": "stream",
     "text": [
      "response code: 200\n",
      "Image saved to: ./images/generated/20250611_154112.jpg\n"
     ]
    }
   ],
   "source": [
    "prompt = f\"Image of EcoMealBox with food as guided. Add foods to sections aslabeled in ECOMealBox_00. Don't change EcoMealBox figure. Do not change anything with EchoBox other than guided. No label on image. Here is guide: Add Shushoku to Section03-01, Shusai to Section01 of the box. Other area remains unchanged.\"\n",
    "images = [\"./images/input/ECOMealBox.jpg\", \"./images/input/ECOMealBox_00.jpg\", \"./images/input/Shushoku_03.png\", \"./images/input/Shusai_01.png\"]\n",
    "generated_image = f\"./images/generated/{dt_str}.jpg\"\n",
    "generate_image(prompt, images, generated_image)"
   ]
  },
  {
   "cell_type": "code",
   "execution_count": 37,
   "id": "d096a48f",
   "metadata": {},
   "outputs": [
    {
     "name": "stdout",
     "output_type": "stream",
     "text": [
      "response code: 200\n",
      "Image saved to: ./images/generated/20250611_154532.jpg\n"
     ]
    }
   ],
   "source": [
    "# prompt update by AI\n",
    "prompt = f\"Generate an image based on EcoMealBox, using the layout and section labels from ECOMealBox_00. Do not alter the shape, design, or appearance of the EcoMealBox itself. Do not modify any areas except as instructed. Do not add any labels or text to the image. Follow this guide for food placement: place Shushoku in Section03-01 and Shusai in Section01. Leave all other sections unchanged.\"\n",
    "images = [\"./images/input/ECOMealBox.jpg\", \"./images/input/ECOMealBox_00.jpg\", \"./images/input/Shushoku_03.png\", \"./images/input/Shusai_01.png\"]\n",
    "generated_image = f\"./images/generated/{dt_str}.jpg\"\n",
    "generate_image(prompt, images, generated_image)"
   ]
  },
  {
   "cell_type": "code",
   "execution_count": 44,
   "id": "d469ba3c",
   "metadata": {},
   "outputs": [
    {
     "name": "stdout",
     "output_type": "stream",
     "text": [
      "response code: 200\n",
      "Image saved to: ./images/generated/20250611_161007.jpg\n"
     ]
    }
   ],
   "source": [
    "# 3 items\n",
    "prompt = f\"Generate an image based on EcoMealBox, using the layout and section labels from ECOMealBox_00. Do not alter the shape, design, or appearance of the EcoMealBox itself. Do not modify any areas except as instructed. Do not add any labels or text to the image. Follow this guide for food placement: place Shusai in Section03-01 and Section03-02, Shushoku in Section01, and Fukusai in Section02. Leave all other sections unchanged.\"\n",
    "images = [\"./images/input/ECOMealBox.jpg\", \"./images/input/ECOMealBox_00.jpg\", \"./images/input/Shushoku_03.png\", \"./images/input/Shusai_01.png\",\"./images/input/Fukusai_01.png\"]\n",
    "generated_image = f\"./images/generated/{dt_str()}.jpg\"\n",
    "generate_image(prompt, images, generated_image)"
   ]
  },
  {
   "cell_type": "code",
   "execution_count": 48,
   "id": "d5d5e4ef",
   "metadata": {},
   "outputs": [
    {
     "name": "stdout",
     "output_type": "stream",
     "text": [
      "response code: 200\n",
      "Image saved to: ./images/generated/20250611_162738.jpg\n"
     ]
    }
   ],
   "source": [
    "# 3 items without section guidance\n",
    "prompt = f\"Generate an image based on EcoMealBox, using the layout from ECOMealBox. Do not alter the shape, design, or appearance of the EcoMealBox itself. Do not modify any areas except as instructed. Do not add any labels or text to the image. Follow this guide for food placement: place Shusai in first-largest section, Shushoku in second-largest, and Fukusai in other one section. Leave all other sections unchanged.\"\n",
    "images = [\"./images/input/ECOMealBox.jpg\", \"./images/input/Shushoku_03.png\", \"./images/input/Shusai_01.png\",\"./images/input/Fukusai_01.png\"]\n",
    "generated_image = f\"./images/generated/{dt_str()}.jpg\"\n",
    "generate_image(prompt, images, generated_image)"
   ]
  },
  {
   "cell_type": "markdown",
   "id": "612afdd2",
   "metadata": {},
   "source": [
    "# Labeling Box Sections"
   ]
  },
  {
   "cell_type": "code",
   "execution_count": 47,
   "id": "22978411",
   "metadata": {},
   "outputs": [
    {
     "name": "stdout",
     "output_type": "stream",
     "text": [
      "response code: 200\n",
      "Image saved to: ./images/generated/EcoMealBox_sectioned_20250611_162349.jpg\n"
     ]
    }
   ],
   "source": [
    "prompt = f\"Analyze the provided EcoMealBox image and accurately detect each section within the box. Clearly label each detected section with its corresponding section name, such as Section01, Section02, Section03-01, Section03-02, etc. Ensure the labels are easy to read and are placed directly on each section. Do not alter the shape, design, or appearance of the EcoMealBox itself, and do not add any other elements to the image.\"\n",
    "images = [\"./images/input/ECOMealBox.jpg\"]\n",
    "generated_image = f\"./images/generated/EcoMealBox_sectioned_{dt_str()}.jpg\"\n",
    "generate_image(prompt, images, generated_image)"
   ]
  },
  {
   "cell_type": "markdown",
   "id": "2ed8550f",
   "metadata": {},
   "source": [
    "# Masking"
   ]
  },
  {
   "cell_type": "code",
   "execution_count": null,
   "id": "913571e2",
   "metadata": {},
   "outputs": [],
   "source": [
    "prompt = f\"Paint with black only upper-left section of the box.\"\n",
    "image = \"./ECOMealBox.jpg\"\n",
    "generated_image = \"./mask.jpg\"\n",
    "generate_image(prompt, image, generated_image)"
   ]
  },
  {
   "cell_type": "code",
   "execution_count": null,
   "id": "989fc674",
   "metadata": {},
   "outputs": [],
   "source": [
    "def create_mask(mask,mask_alpha):\n",
    "    from PIL import Image\n",
    "    from io import BytesIO\n",
    "\n",
    "    mask = Image.open(mask).convert(\"L\")\n",
    "    mask_rgba = mask.convert(\"RGBA\")\n",
    "\n",
    "    mask_rgba.putalpha(mask)\n",
    "\n",
    "    buf = BytesIO()\n",
    "    mask_rgba.save(buf, format=\"PNG\")\n",
    "    mask_bytes = buf.getvalue()\n",
    "\n",
    "    with open(mask_alpha, \"wb\") as f:\n",
    "        f.write(mask_bytes)"
   ]
  },
  {
   "cell_type": "code",
   "execution_count": null,
   "id": "4f119e23",
   "metadata": {},
   "outputs": [],
   "source": [
    "create_mask(\"./mask.jpg\", \"./mask_alpha.png\")"
   ]
  },
  {
   "cell_type": "code",
   "execution_count": null,
   "id": "d7b1a2b7",
   "metadata": {},
   "outputs": [],
   "source": [
    "def generate_image_with_mask(prompt,image,mask,generated_image):\n",
    "    url = f\"{AZURE_OPENAI_ENDPOINT}openai/deployments/{AZURE_OPENAI_IMAGE_DEPLOYMENT}/images/edits?api-version={AZURE_OPENAI_API_VERSION}\"\n",
    "    headers = {\n",
    "        \"api-key\": AZURE_OPENAI_API_KEY\n",
    "    }\n",
    "    \n",
    "    data = {\n",
    "        \"prompt\": prompt,\n",
    "        \"size\": \"1024x1024\",\n",
    "        \"n\": 1\n",
    "    }\n",
    "\n",
    "    files = {\n",
    "        \"image\": (\"image\", open(image, \"rb\"), \"image/jpeg\"),\n",
    "        \"mask\": (\"mask\", open(mask, \"rb\"), \"image/png\")\n",
    "    }\n",
    "    \n",
    "    response = requests.post(url, headers=headers, data=data, files=files)\n",
    "    print(\"response code: \" + str(response.status_code))\n",
    "\n",
    "    if response.status_code == 200:\n",
    "        b64 = response.json()[\"data\"][0][\"b64_json\"]\n",
    "        with open(generated_image, \"wb\") as out:\n",
    "            out.write(base64.b64decode(b64))\n",
    "    else:\n",
    "        print(\"Error: \" + response.text)\n",
    "        exit(1)"
   ]
  },
  {
   "cell_type": "code",
   "execution_count": null,
   "id": "68c20ab5",
   "metadata": {},
   "outputs": [],
   "source": [
    "prompt = f\"add potato salad to upper-left of meal box. do not change figure of meal box nor other sections.\"\n",
    "image = \"./ECOMealBox.jpg\"\n",
    "mask = \"./mask_alpha.png\"\n",
    "generated_image = \"./generated_image_with_mask.jpg\"\n",
    "generate_image_with_mask(prompt, image, mask, generated_image)"
   ]
  },
  {
   "cell_type": "code",
   "execution_count": null,
   "id": "2c4c9038",
   "metadata": {},
   "outputs": [],
   "source": [
    "def generate_image_with_images_mask(prompt, image_base, image_sub, mask, generated_image):\n",
    "    url = f\"{AZURE_OPENAI_ENDPOINT}openai/deployments/{AZURE_OPENAI_IMAGE_DEPLOYMENT}/images/edits?api-version={AZURE_OPENAI_API_VERSION}\"\n",
    "    headers = {\n",
    "        \"api-key\": AZURE_OPENAI_API_KEY\n",
    "    }\n",
    "    \n",
    "    data = {\n",
    "        \"prompt\": prompt,\n",
    "        \"size\": \"1024x1024\",\n",
    "        \"n\": 1\n",
    "    }\n",
    "\n",
    "    files = {\n",
    "        \"image\": (os.path.basename(image_base), open(image_base, \"rb\"), \"image/png\"),\n",
    "        \"image\": (os.path.basename(image_sub), open(image_sub, \"rb\"), \"image/png\"),\n",
    "        \"mask\": (\"mask\", open(mask, \"rb\"), \"image/png\")\n",
    "    }\n",
    "    \n",
    "    response = requests.post(url, headers=headers, data=data, files=files)\n",
    "    print(\"response code: \" + str(response.status_code))\n",
    "\n",
    "    if response.status_code == 200:\n",
    "        b64 = response.json()[\"data\"][0][\"b64_json\"]\n",
    "        with open(generated_image, \"wb\") as out:\n",
    "            out.write(base64.b64decode(b64))\n",
    "    else:\n",
    "        print(\"Error: \" + response.text)\n",
    "        exit(1)"
   ]
  },
  {
   "cell_type": "code",
   "execution_count": null,
   "id": "64bfc800",
   "metadata": {},
   "outputs": [],
   "source": [
    "from PIL import Image\n",
    "\n",
    "def convert_jpeg_to_png_alpha(mask, mask_alpha):\n",
    "    image = Image.open(mask).convert(\"RGBA\")\n",
    "    alpha = Image.new(\"L\", image.size, 255)\n",
    "    image.putalpha(alpha)\n",
    "    image.save(mask_alpha, format=\"PNG\")\n"
   ]
  },
  {
   "cell_type": "code",
   "execution_count": null,
   "id": "1056e10f",
   "metadata": {},
   "outputs": [],
   "source": [
    "convert_jpeg_to_png_alpha(\"./mask.jpg\", \"./mask_alpha.png\")"
   ]
  },
  {
   "cell_type": "code",
   "execution_count": null,
   "id": "77379971",
   "metadata": {},
   "outputs": [],
   "source": [
    "# prompt = f\"Add karaage to upper-left of meal box. Do not change box figure. Do not add anything others.\"\n",
    "prompt = f\"唐揚げをお弁当箱に追加\"\n",
    "image_base = \"./ECOMealBox.png\"\n",
    "image_sub = \"./karaage.png\"\n",
    "mask = \"./mask_alpha.png\"\n",
    "generated_image = \"./generated_image_with_images_mask.jpg\"\n",
    "generate_image_with_images_mask(prompt, image_base, image_sub, mask, generated_image)"
   ]
  },
  {
   "cell_type": "code",
   "execution_count": null,
   "id": "9286b356",
   "metadata": {},
   "outputs": [],
   "source": [
    "def generate_mask(prompt,image,mask):\n",
    "    url = f\"{AZURE_OPENAI_ENDPOINT}openai/deployments/{AZURE_OPENAI_IMAGE_DEPLOYMENT}/images/edits?api-version={AZURE_OPENAI_API_VERSION}\"\n",
    "    headers = {\n",
    "        \"api-key\": AZURE_OPENAI_API_KEY\n",
    "    }\n",
    "    \n",
    "    data = {\n",
    "        \"prompt\": prompt,\n",
    "        \"size\": \"1024x1024\",\n",
    "        \"n\": 1\n",
    "    }\n",
    "\n",
    "    files = {\n",
    "        \"image\": (\"image\", open(image, \"rb\"), \"image/jpeg\")\n",
    "    }\n",
    "    \n",
    "    response = requests.post(url, headers=headers, data=data, files=files)\n",
    "    print(\"response code: \" + str(response.status_code))\n",
    "\n",
    "    if response.status_code == 200:\n",
    "        b64 = response.json()[\"data\"][0][\"b64_json\"]\n",
    "        with open(mask, \"wb\") as out:\n",
    "            out.write(base64.b64decode(b64))\n",
    "\n",
    "        image = Image.open(mask).convert(\"RGBA\")\n",
    "        alpha = Image.new(\"L\", image.size, 255)\n",
    "        image.putalpha(alpha)\n",
    "        image.save(mask, format=\"PNG\")\n",
    "    else:\n",
    "        print(\"Error: \" + response.text)\n",
    "        exit(1)"
   ]
  },
  {
   "cell_type": "code",
   "execution_count": null,
   "id": "4db41c3b",
   "metadata": {},
   "outputs": [],
   "source": [
    "prompt = f\"Paint with black only upper-left section of the box and save as mask.\"\n",
    "generate_mask(prompt, \"./ECOMealBox.png\", \"./mask_alpha_black.png\")"
   ]
  },
  {
   "cell_type": "code",
   "execution_count": null,
   "id": "10ffe425",
   "metadata": {},
   "outputs": [],
   "source": [
    "prompt = f\"ECOMealBoxの左下だけにmamegohanが入っている\"\n",
    "image_base = \"./ECOMealBox.png\"\n",
    "image_sub = \"./mamegohan.png\"\n",
    "mask = \"./mask_alpha_white.png\"\n",
    "generated_image = \"./generated_image_with_images_mask.jpg\"\n",
    "generate_image_with_images_mask(prompt, image_base, image_sub, mask, generated_image)"
   ]
  },
  {
   "cell_type": "code",
   "execution_count": null,
   "id": "6df32ebe",
   "metadata": {},
   "outputs": [],
   "source": [
    "prompt = f\"Paint with black only upper-left section of the box and save as mask.\"\n",
    "generate_mask(prompt, \"./images/Container_01.png\", \"./images/Container_01_mask.png\")"
   ]
  },
  {
   "cell_type": "code",
   "execution_count": null,
   "id": "5dffd2a4",
   "metadata": {},
   "outputs": [],
   "source": [
    "prompt = prompt = f\"Paint with black only upper-left section of Container_01 and save as mask.\"\n",
    "image_base = \"./images/Container_01.png\"\n",
    "mask = \"./images/Container_01_mask.png\"\n",
    "\n",
    "generate_mask(prompt, image_base, mask)"
   ]
  },
  {
   "cell_type": "code",
   "execution_count": null,
   "id": "87d320cc",
   "metadata": {},
   "outputs": [],
   "source": [
    "prompt = f\"Shusai_01 appears in Container_01\"\n",
    "image_base = \"./images/Container_01.png\"\n",
    "image_sub = \"./images/Shusai_01.png\"\n",
    "mask = \"./images/Container_01_mask.png\"\n",
    "generated_image = \"./images/generated/\" + datetime.now().strftime(\"%Y%m%d_%H%M%S\") + \".jpg\"\n",
    "\n",
    "generate_image_with_images_mask(prompt, image_base, image_sub, mask, generated_image)"
   ]
  }
 ],
 "metadata": {
  "kernelspec": {
   "display_name": ".venv",
   "language": "python",
   "name": "python3"
  },
  "language_info": {
   "codemirror_mode": {
    "name": "ipython",
    "version": 3
   },
   "file_extension": ".py",
   "mimetype": "text/x-python",
   "name": "python",
   "nbconvert_exporter": "python",
   "pygments_lexer": "ipython3",
   "version": "3.12.10"
  }
 },
 "nbformat": 4,
 "nbformat_minor": 5
}
