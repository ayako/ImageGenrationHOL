{
 "cells": [
  {
   "cell_type": "code",
   "execution_count": null,
   "id": "15b72ca7",
   "metadata": {},
   "outputs": [],
   "source": [
    "import requests\n",
    "import json\n",
    "import time\n",
    "from datetime import datetime"
   ]
  },
  {
   "cell_type": "code",
   "execution_count": null,
   "id": "cd62e92f",
   "metadata": {},
   "outputs": [],
   "source": [
    "# Set up the Azure OpenAI API endpoint and deployment details\n",
    "endpoint = \"https://YOUR_RESOURCE_NAME.openai.azure.com/\"  \n",
    "deployment = \"sora\"\n",
    "api_key = \"YOUR_API_KEY\"\n",
    "api_version = \"2025-02-15-preview\""
   ]
  },
  {
   "cell_type": "code",
   "execution_count": 5,
   "id": "0af6070c",
   "metadata": {},
   "outputs": [],
   "source": [
    "headers = {\n",
    "  'Api-Key': api_key,\n",
    "  'Content-Type': 'application/json',\n",
    "}"
   ]
  },
  {
   "cell_type": "code",
   "execution_count": 6,
   "id": "cd586fa5",
   "metadata": {},
   "outputs": [],
   "source": [
    "# Set up prompt\n",
    "prompt = \"青い空の下、子犬が草原を駆け回る。カメラは後ろから追いかける\""
   ]
  },
  {
   "cell_type": "code",
   "execution_count": 7,
   "id": "7915d9cf",
   "metadata": {},
   "outputs": [],
   "source": [
    "body = {\n",
    "  \"prompt\": prompt,\n",
    "  \"n_variants\": \"1\",\n",
    "  \"n_seconds\": \"10\",\n",
    "  \"height\": \"480\",\n",
    "  \"width\": \"854\",\n",
    "  \"model\": deployment,\n",
    "}"
   ]
  },
  {
   "cell_type": "code",
   "execution_count": 9,
   "id": "eea2fbba",
   "metadata": {},
   "outputs": [
    {
     "name": "stdout",
     "output_type": "stream",
     "text": [
      "{\n",
      "    \"created_at\": 1755151249,\n",
      "    \"expires_at\": null,\n",
      "    \"failure_reason\": null,\n",
      "    \"finished_at\": null,\n",
      "    \"generations\": [],\n",
      "    \"height\": 480,\n",
      "    \"id\": \"task_01k2kjnbrcf1ct2k1rak3a19bg\",\n",
      "    \"model\": \"sora\",\n",
      "    \"n_seconds\": 10,\n",
      "    \"n_variants\": 1,\n",
      "    \"object\": \"video.generation.job\",\n",
      "    \"prompt\": \"\\u9752\\u3044\\u7a7a\\u306e\\u4e0b\\u3001\\u5b50\\u72ac\\u304c\\u8349\\u539f\\u3092\\u99c6\\u3051\\u56de\\u308b\\u3002\\u30ab\\u30e1\\u30e9\\u306f\\u5f8c\\u308d\\u304b\\u3089\\u8ffd\\u3044\\u304b\\u3051\\u308b\",\n",
      "    \"status\": \"preprocessing\",\n",
      "    \"width\": 854\n",
      "}\n",
      "Polling job status for ID: task_01k2kjnbrcf1ct2k1rak3a19bg\n",
      "Status: preprocessing\n",
      "Status: running\n",
      "Status: running\n",
      "Status: running\n",
      "Status: processing\n",
      "Status: processing\n",
      "Status: succeeded\n",
      "Video generation succeeded.\n",
      "Generated video saved as \"./generated/video/20250814_150220.mp4\"\n"
     ]
    }
   ],
   "source": [
    "# Execute the request to generate the video\n",
    "constructed_url = f\"{endpoint}openai/v1/video/generations/jobs?api-version=preview\"\n",
    "response = requests.post(constructed_url, headers=headers, json=body)\n",
    "\n",
    "if not response.ok:\n",
    "    print(\"Video generation failed.\")\n",
    "    print(json.dumps(response.json(), sort_keys=True, indent=4, separators=(',', ': ')))\n",
    "else:\n",
    "    print(json.dumps(response.json(), sort_keys=True, indent=4, separators=(',', ': ')))\n",
    "    response = response.json()\n",
    "    job_id = response.get(\"id\")\n",
    "    status = response.get(\"status\")\n",
    "    status_url = f\"{endpoint}openai/v1/video/generations/jobs/{job_id}?api-version=preview\"\n",
    "\n",
    "    print(f\"Polling job status for ID: {job_id}\")\n",
    "    while status not in [\"succeeded\", \"failed\"]:\n",
    "        time.sleep(5)\n",
    "        response = requests.get(status_url, headers=headers).json()\n",
    "        status = response.get(\"status\")\n",
    "        print(f\"Status: {status}\")\n",
    "\n",
    "    if status == \"succeeded\":\n",
    "        generations = response.get(\"generations\", [])\n",
    "        if generations:\n",
    "            print(f\"Video generation succeeded.\")\n",
    "\n",
    "            generation_id = generations[0].get(\"id\")\n",
    "            video_url = f'{endpoint}openai/v1/video/generations/{generation_id}/content/video?api-version=preview'\n",
    "            video_response = requests.get(video_url, headers=headers)\n",
    "            if video_response.ok:\n",
    "                output_filename = \"./generated/video/\" + datetime.now().strftime(\"%Y%m%d_%H%M%S\") + \".mp4\"\n",
    "                with open(output_filename, \"wb\") as file:\n",
    "                    file.write(video_response.content)\n",
    "                print(f'Generated video saved as \"{output_filename}\"')\n",
    "        else:\n",
    "            print(\"Status is succeeded, but no generations were returned.\")\n",
    "    elif status == \"failed\":\n",
    "        print(\"Video generation failed.\")\n",
    "        print(json.dumps(response, sort_keys=True, indent=4, separators=(',', ': ')))"
   ]
  }
 ],
 "metadata": {
  "kernelspec": {
   "display_name": "Python 3",
   "language": "python",
   "name": "python3"
  },
  "language_info": {
   "codemirror_mode": {
    "name": "ipython",
    "version": 3
   },
   "file_extension": ".py",
   "mimetype": "text/x-python",
   "name": "python",
   "nbconvert_exporter": "python",
   "pygments_lexer": "ipython3",
   "version": "3.13.6"
  }
 },
 "nbformat": 4,
 "nbformat_minor": 5
}
