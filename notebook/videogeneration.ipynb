{
 "cells": [
  {
   "cell_type": "code",
   "execution_count": 13,
   "id": "15b72ca7",
   "metadata": {},
   "outputs": [],
   "source": [
    "import os\n",
    "import requests\n",
    "import json\n",
    "import time\n",
    "from datetime import datetime"
   ]
  },
  {
   "cell_type": "code",
   "execution_count": null,
   "id": "cd62e92f",
   "metadata": {},
   "outputs": [],
   "source": [
    "# Set up the Azure OpenAI API endpoint and deployment details\n",
    "endpoint = \"https://YOUR_SERVICE_NAME.openai.azure.com/\"  \n",
    "deployment = \"sora\"\n",
    "api_key = \"YOUR_KEY\"\n",
    "api_version = \"2025-02-15-preview\""
   ]
  },
  {
   "cell_type": "code",
   "execution_count": null,
   "id": "0af6070c",
   "metadata": {},
   "outputs": [],
   "source": [
    "headers = {\n",
    "  'Api-Key': api_key,\n",
    "  'Content-Type': 'application/json',\n",
    "}"
   ]
  },
  {
   "cell_type": "code",
   "execution_count": null,
   "id": "cd586fa5",
   "metadata": {},
   "outputs": [],
   "source": [
    "# Set up prompt\n",
    "#prompt = \"A seamless 10-second loop of a white sandy beach and emerald green sea under a blue sky in morning light. The scene is viewed from a static camera with a natural human-eye perspective (around 50mm focal length), avoiding fisheye or wide-angle distortion. Gentle waves roll in and out in a perfectly cyclical motion. Ensure the first and last frames are visually identical for a perfect loop. Maintain consistent lighting and shadows throughout\"\n",
    "prompt = \"In a bright afternoon office, several Japanese people dressed in casual are relaxing while enjoying coffee and sweets. The camera is static, using a natural human-eye perspective (around 50mm focal length), avoiding fisheye or wide-angle distortion. Their movements and expressions are calm and natural. Ensure the first and last frames match visually for a seamless loop. Maintain consistent lighting and shadows throughout. The video should be a smooth, 5-second seamless loop.\""
   ]
  },
  {
   "cell_type": "code",
   "execution_count": 15,
   "id": "7915d9cf",
   "metadata": {},
   "outputs": [],
   "source": [
    "body = {\n",
    "  \"prompt\": prompt,\n",
    "  \"n_variants\": \"1\",\n",
    "  \"n_seconds\": \"10\",\n",
    "  \"height\": \"480\",\n",
    "  \"width\": \"854\",\n",
    "  \"model\": deployment,\n",
    "}"
   ]
  },
  {
   "cell_type": "code",
   "execution_count": null,
   "id": "eea2fbba",
   "metadata": {},
   "outputs": [
    {
     "name": "stdout",
     "output_type": "stream",
     "text": [
      "{\n",
      "    \"created_at\": 1748926604,\n",
      "    \"expires_at\": null,\n",
      "    \"failure_reason\": null,\n",
      "    \"finished_at\": null,\n",
      "    \"generations\": [],\n",
      "    \"height\": 480,\n",
      "    \"id\": \"task_01jwt2c9m2fg2a5d7qf4wpn5ay\",\n",
      "    \"model\": \"sora\",\n",
      "    \"n_seconds\": 10,\n",
      "    \"n_variants\": 1,\n",
      "    \"object\": \"video.generation.job\",\n",
      "    \"prompt\": \":In a bright afternoon office, several Japanese people dressed in casual are relaxing while enjoying coffee and sweets. The camera is static, using a natural human-eye perspective (around 50mm focal length), avoiding fisheye or wide-angle distortion. Their movements and expressions are calm and natural. Ensure the first and last frames match visually for a seamless loop. Maintain consistent lighting and shadows throughout. The video should be a smooth, 5-second seamless loop\",\n",
      "    \"status\": \"queued\",\n",
      "    \"width\": 854\n",
      "}\n",
      "Polling job status for ID: task_01jwt2c9m2fg2a5d7qf4wpn5ay\n",
      "Status: queued\n",
      "Status: queued\n",
      "Status: queued\n",
      "Status: queued\n",
      "Status: running\n",
      "Status: running\n",
      "Status: running\n",
      "Status: succeeded\n",
      "Video generation succeeded.\n",
      "Generated video saved as \"./videos/generated20250603_135744.mp4\"\n"
     ]
    }
   ],
   "source": [
    "# Execute the request to generate the video\n",
    "constructed_url = f\"{endpoint}openai/v1/video/generations/jobs?api-version=preview\"\n",
    "response = requests.post(constructed_url, headers=headers, json=body)\n",
    "\n",
    "if not response.ok:\n",
    "    print(\"Video generation failed.\")\n",
    "    print(json.dumps(response.json(), sort_keys=True, indent=4, separators=(',', ': ')))\n",
    "else:\n",
    "    print(json.dumps(response.json(), sort_keys=True, indent=4, separators=(',', ': ')))\n",
    "    response = response.json()\n",
    "    job_id = response.get(\"id\")\n",
    "    status = response.get(\"status\")\n",
    "    status_url = f\"{endpoint}openai/v1/video/generations/jobs/{job_id}?api-version=preview\"\n",
    "\n",
    "    print(f\"Polling job status for ID: {job_id}\")\n",
    "    while status not in [\"succeeded\", \"failed\"]:\n",
    "        time.sleep(5)\n",
    "        response = requests.get(status_url, headers=headers).json()\n",
    "        status = response.get(\"status\")\n",
    "        print(f\"Status: {status}\")\n",
    "\n",
    "    if status == \"succeeded\":\n",
    "        generations = response.get(\"generations\", [])\n",
    "        if generations:\n",
    "            print(f\"Video generation succeeded.\")\n",
    "\n",
    "            generation_id = generations[0].get(\"id\")\n",
    "            video_url = f'{endpoint}openai/v1/video/generations/{generation_id}/content/video?api-version=preview'\n",
    "            video_response = requests.get(video_url, headers=headers)\n",
    "            if video_response.ok:\n",
    "                output_filename = \"./videos/generated/\" + datetime.now().strftime(\"%Y%m%d_%H%M%S\") + \".mp4\"\n",
    "                with open(output_filename, \"wb\") as file:\n",
    "                    file.write(video_response.content)\n",
    "                print(f'Generated video saved as \"{output_filename}\"')\n",
    "        else:\n",
    "            print(\"Status is succeeded, but no generations were returned.\")\n",
    "    elif status == \"failed\":\n",
    "        print(\"Video generation failed.\")\n",
    "        print(json.dumps(response, sort_keys=True, indent=4, separators=(',', ': ')))"
   ]
  },
  {
   "cell_type": "code",
   "execution_count": null,
   "id": "77913380",
   "metadata": {},
   "outputs": [],
   "source": [
    "# Execute the request to generate the video\n",
    "creation_url = f\"{endpoint}openai/deployments/{deployment}/video/generations/generate?api-version={api_version}\"\n",
    "response = requests.post(constructed_url, headers=headers, json=body)\n",
    "\n",
    "if not response.ok:\n",
    "    print(\"Video generation failed.\")\n",
    "    print(json.dumps(response.json(), sort_keys=True, indent=4, separators=(',', ': ')))\n",
    "else:\n",
    "    print(json.dumps(response.json(), sort_keys=True, indent=4, separators=(',', ': ')))\n",
    "    response = response.json()\n",
    "    job_id = response.get(\"id\")\n",
    "    status = response.get(\"status\")\n",
    "    status_url = f\"{endpoint}openai/v1/video/generations/jobs/{job_id}?api-version=preview\"\n",
    "\n",
    "    print(f\"Polling job status for ID: {job_id}\")\n",
    "    while status not in [\"succeeded\", \"failed\"]:\n",
    "        time.sleep(5)\n",
    "        response = requests.get(status_url, headers=headers).json()\n",
    "        status = response.get(\"status\")\n",
    "        print(f\"Status: {status}\")\n",
    "\n",
    "    if status == \"succeeded\":\n",
    "        generations = response.get(\"generations\", [])\n",
    "        if generations:\n",
    "            print(f\"Video generation succeeded.\")\n",
    "\n",
    "            generation_id = generations[0].get(\"id\")\n",
    "            video_url = f'{endpoint}openai/v1/video/generations/{generation_id}/content/video?api-version=preview'\n",
    "            video_response = requests.get(video_url, headers=headers)\n",
    "            if video_response.ok:\n",
    "                output_filename = \"./videos/generated/\" + datetime.now().strftime(\"%Y%m%d_%H%M%S\") + \".mp4\"\n",
    "                with open(output_filename, \"wb\") as file:\n",
    "                    file.write(video_response.content)\n",
    "                print(f'Generated video saved as \"{output_filename}\"')\n",
    "        else:\n",
    "            print(\"Status is succeeded, but no generations were returned.\")\n",
    "    elif status == \"failed\":\n",
    "        print(\"Video generation failed.\")\n",
    "        print(json.dumps(response, sort_keys=True, indent=4, separators=(',', ': ')))"
   ]
  }
 ],
 "metadata": {
  "kernelspec": {
   "display_name": ".venv",
   "language": "python",
   "name": "python3"
  },
  "language_info": {
   "codemirror_mode": {
    "name": "ipython",
    "version": 3
   },
   "file_extension": ".py",
   "mimetype": "text/x-python",
   "name": "python",
   "nbconvert_exporter": "python",
   "pygments_lexer": "ipython3",
   "version": "3.11.9"
  }
 },
 "nbformat": 4,
 "nbformat_minor": 5
}
